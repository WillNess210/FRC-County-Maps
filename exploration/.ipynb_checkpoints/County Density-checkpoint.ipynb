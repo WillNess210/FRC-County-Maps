{
 "cells": [
  {
   "cell_type": "code",
   "execution_count": 1,
   "metadata": {},
   "outputs": [],
   "source": [
    "import math\n",
    "import pandas as pd\n",
    "not_found_string = \"N/A\"\n",
    "frc_county_loc = \"/home/will/Documents/Projects/frc_counties/data/frc_teams_counties.csv\"\n",
    "svgp1_loc = \"/home/will/Documents/Projects/frc_counties/data/svgp1.txt\"\n",
    "svgp2_loc = \"/home/will/Documents/Projects/frc_counties/data/svgp2.txt\"\n",
    "og_svg_loc = \"/home/will/Documents/Projects/frc_counties/data/counties.svg\"\n",
    "target_loc = \"frc_county_density.svg\""
   ]
  },
  {
   "cell_type": "code",
   "execution_count": 2,
   "metadata": {},
   "outputs": [],
   "source": [
    "# library funcs for modifying svg file\n",
    "def joinFilesWithStringBetween(toAdd):\n",
    "    writer = open(target_loc, \"w\")\n",
    "    p1reader = open(svgp1_loc, \"r\")\n",
    "    writer.write(p1reader.read())\n",
    "    p1reader.close()\n",
    "    writer.write(toAdd)\n",
    "    p2reader = open(svgp2_loc, \"r\")\n",
    "    writer.write(p2reader.read())\n",
    "    p2reader.close()\n",
    "    writer.close()\n",
    "\n",
    "def writeSvgWithColorDictionary(color_dict): #format: {fips_code: colorstring,}\n",
    "    toWrite = \"\"\n",
    "    for fips_code in color_dict:\n",
    "        toWrite += \"#\" + str(fips_code) + \"{fill: \" + color_dict[fips_code] + \";}\\n\"\n",
    "    joinFilesWithStringBetween(toWrite)\n",
    "def genCSSRGB(R, G, B):\n",
    "    return \"rgb(\" + str(R) + \",\" + str(G) + \",\" + str(B) + \")\""
   ]
  },
  {
   "cell_type": "code",
   "execution_count": 3,
   "metadata": {},
   "outputs": [
    {
     "data": {
      "text/html": [
       "<div>\n",
       "<style scoped>\n",
       "    .dataframe tbody tr th:only-of-type {\n",
       "        vertical-align: middle;\n",
       "    }\n",
       "\n",
       "    .dataframe tbody tr th {\n",
       "        vertical-align: top;\n",
       "    }\n",
       "\n",
       "    .dataframe thead th {\n",
       "        text-align: right;\n",
       "    }\n",
       "</style>\n",
       "<table border=\"1\" class=\"dataframe\">\n",
       "  <thead>\n",
       "    <tr style=\"text-align: right;\">\n",
       "      <th></th>\n",
       "      <th>Team Number</th>\n",
       "      <th>Country</th>\n",
       "      <th>State</th>\n",
       "      <th>City</th>\n",
       "      <th>Postal Code</th>\n",
       "      <th>State Code</th>\n",
       "      <th>fips</th>\n",
       "    </tr>\n",
       "  </thead>\n",
       "  <tbody>\n",
       "    <tr>\n",
       "      <th>0</th>\n",
       "      <td>1</td>\n",
       "      <td>USA</td>\n",
       "      <td>Michigan</td>\n",
       "      <td>Pontiac</td>\n",
       "      <td>48340</td>\n",
       "      <td>MI</td>\n",
       "      <td>c26125</td>\n",
       "    </tr>\n",
       "    <tr>\n",
       "      <th>1</th>\n",
       "      <td>4</td>\n",
       "      <td>USA</td>\n",
       "      <td>California</td>\n",
       "      <td>Van Nuys</td>\n",
       "      <td>91406</td>\n",
       "      <td>CA</td>\n",
       "      <td>c06037</td>\n",
       "    </tr>\n",
       "    <tr>\n",
       "      <th>2</th>\n",
       "      <td>8</td>\n",
       "      <td>USA</td>\n",
       "      <td>California</td>\n",
       "      <td>Palo Alto</td>\n",
       "      <td>94301</td>\n",
       "      <td>CA</td>\n",
       "      <td>c06085</td>\n",
       "    </tr>\n",
       "    <tr>\n",
       "      <th>3</th>\n",
       "      <td>11</td>\n",
       "      <td>USA</td>\n",
       "      <td>New Jersey</td>\n",
       "      <td>Flanders</td>\n",
       "      <td>07836</td>\n",
       "      <td>NJ</td>\n",
       "      <td>c34027</td>\n",
       "    </tr>\n",
       "    <tr>\n",
       "      <th>4</th>\n",
       "      <td>16</td>\n",
       "      <td>USA</td>\n",
       "      <td>Arkansas</td>\n",
       "      <td>Mountain Home</td>\n",
       "      <td>72653</td>\n",
       "      <td>AR</td>\n",
       "      <td>c05005,c05089</td>\n",
       "    </tr>\n",
       "  </tbody>\n",
       "</table>\n",
       "</div>"
      ],
      "text/plain": [
       "   Team Number Country       State           City Postal Code State Code  \\\n",
       "0            1     USA    Michigan        Pontiac       48340         MI   \n",
       "1            4     USA  California       Van Nuys       91406         CA   \n",
       "2            8     USA  California      Palo Alto       94301         CA   \n",
       "3           11     USA  New Jersey       Flanders       07836         NJ   \n",
       "4           16     USA    Arkansas  Mountain Home       72653         AR   \n",
       "\n",
       "            fips  \n",
       "0         c26125  \n",
       "1         c06037  \n",
       "2         c06085  \n",
       "3         c34027  \n",
       "4  c05005,c05089  "
      ]
     },
     "execution_count": 3,
     "metadata": {},
     "output_type": "execute_result"
    }
   ],
   "source": [
    "# load in frc county data\n",
    "frczips = pd.read_csv(frc_county_loc)\n",
    "frczips.head()"
   ]
  },
  {
   "cell_type": "code",
   "execution_count": 4,
   "metadata": {},
   "outputs": [],
   "source": [
    "# start counting density, and keep track of max\n",
    "maxSoFar = 0\n",
    "countyDensity = {}\n",
    "for index, row in frczips.iterrows():\n",
    "    fips = row[\"fips\"]\n",
    "    if fips in countyDensity:\n",
    "        countyDensity[fips] += 1\n",
    "    else:\n",
    "        countyDensity[fips] = 1\n",
    "    maxSoFar = max([countyDensity[fips], maxSoFar])\n"
   ]
  },
  {
   "cell_type": "code",
   "execution_count": 5,
   "metadata": {},
   "outputs": [],
   "source": [
    "# create color dictionary mapping each county name to a color\n",
    "col_dict = {}\n",
    "for fips_code_line in countyDensity:\n",
    "    for fips_code in fips_code_line.split(\",\"):\n",
    "        val = int(255.0 * float(countyDensity[fips_code_line]) / float(maxSoFar))\n",
    "        col_dict[fips_code] = genCSSRGB(255 - val, 255 - val, 255)\n",
    "\n",
    "writeSvgWithColorDictionary(col_dict)"
   ]
  }
 ],
 "metadata": {
  "kernelspec": {
   "display_name": "Python 2",
   "language": "python",
   "name": "python2"
  },
  "language_info": {
   "codemirror_mode": {
    "name": "ipython",
    "version": 2
   },
   "file_extension": ".py",
   "mimetype": "text/x-python",
   "name": "python",
   "nbconvert_exporter": "python",
   "pygments_lexer": "ipython2",
   "version": "2.7.15+"
  }
 },
 "nbformat": 4,
 "nbformat_minor": 2
}
