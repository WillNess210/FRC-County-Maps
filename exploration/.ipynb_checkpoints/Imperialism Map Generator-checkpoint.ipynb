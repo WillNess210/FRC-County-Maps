{
 "cells": [
  {
   "cell_type": "code",
   "execution_count": 1,
   "metadata": {},
   "outputs": [],
   "source": [
    "import math\n",
    "import pandas as pd\n",
    "from lxml import etree\n",
    "from frccolors import RoboColor\n",
    "import tbapy\n",
    "\n",
    "\n",
    "tba = tbapy.TBA('LenYI5DMTy1bQIoP4ralqFVd5g5JvTY9YBEBAubPktLTelEdPukJZ1RVLIV1Ypfu')\n",
    "not_found_string = \"N/A\"\n",
    "imperialism_loc = \"/home/will/Documents/Projects/frc_counties/data/imperialism_map_start.csv\"\n",
    "svg_loc = \"/home/will/Documents/Projects/frc_counties/data/counties.svg\"\n",
    "custom_colors_loc = \"/home/will/Documents/Projects/frc_counties/data/team_colors.csv\"\n",
    "target_loc = \"frc_imperialism_map.svg\"\n",
    "year = 2019\n",
    "end_date = '2019-03-27'\n",
    "# choose from: Regional, Championship Division, Offseason, Preseason, District Championship, Championship Finals, District, District Championship Division\n",
    "acceptable_event_types = [\"Regional\", \"Championship Division\", \"District Championship\", \"Championship Finals\", \"District\", \"District Championship Division\"]#, \"Offseason\"]\n",
    "champ_types = [\"District Championship\", \"Championship Finals\"]\n",
    "roboColor = RoboColor(custom_colors_loc)"
   ]
  },
  {
   "cell_type": "code",
   "execution_count": 2,
   "metadata": {},
   "outputs": [
    {
     "data": {
      "text/html": [
       "<div>\n",
       "<style scoped>\n",
       "    .dataframe tbody tr th:only-of-type {\n",
       "        vertical-align: middle;\n",
       "    }\n",
       "\n",
       "    .dataframe tbody tr th {\n",
       "        vertical-align: top;\n",
       "    }\n",
       "\n",
       "    .dataframe thead th {\n",
       "        text-align: right;\n",
       "    }\n",
       "</style>\n",
       "<table border=\"1\" class=\"dataframe\">\n",
       "  <thead>\n",
       "    <tr style=\"text-align: right;\">\n",
       "      <th></th>\n",
       "      <th>County</th>\n",
       "      <th>Teams</th>\n",
       "    </tr>\n",
       "  </thead>\n",
       "  <tbody>\n",
       "    <tr>\n",
       "      <th>0</th>\n",
       "      <td>c39167</td>\n",
       "      <td>7515</td>\n",
       "    </tr>\n",
       "    <tr>\n",
       "      <th>1</th>\n",
       "      <td>c49007</td>\n",
       "      <td>6844</td>\n",
       "    </tr>\n",
       "    <tr>\n",
       "      <th>2</th>\n",
       "      <td>c46013</td>\n",
       "      <td>3300</td>\n",
       "    </tr>\n",
       "    <tr>\n",
       "      <th>3</th>\n",
       "      <td>c51710</td>\n",
       "      <td>1793</td>\n",
       "    </tr>\n",
       "    <tr>\n",
       "      <th>4</th>\n",
       "      <td>c29107</td>\n",
       "      <td>2457</td>\n",
       "    </tr>\n",
       "    <tr>\n",
       "      <th>5</th>\n",
       "      <td>c55009</td>\n",
       "      <td>1716,6318</td>\n",
       "    </tr>\n",
       "  </tbody>\n",
       "</table>\n",
       "</div>"
      ],
      "text/plain": [
       "   County      Teams\n",
       "0  c39167       7515\n",
       "1  c49007       6844\n",
       "2  c46013       3300\n",
       "3  c51710       1793\n",
       "4  c29107       2457\n",
       "5  c55009  1716,6318"
      ]
     },
     "execution_count": 2,
     "metadata": {},
     "output_type": "execute_result"
    }
   ],
   "source": [
    "# load imperialism start into dataframe\n",
    "imp = pd.read_csv(imperialism_loc)\n",
    "imp.head(6)"
   ]
  },
  {
   "cell_type": "code",
   "execution_count": 3,
   "metadata": {},
   "outputs": [],
   "source": [
    "# , and then into custom datastructure\n",
    "county_assignment = {}\n",
    "for index, row in imp.iterrows():\n",
    "    county = row[\"County\"]\n",
    "    teams = row[\"Teams\"].split(\",\")\n",
    "    for i in range(len(teams)):\n",
    "        teams[i] = int(teams[i])\n",
    "        if county in county_assignment:\n",
    "            county_assignment[county].append(teams[i])\n",
    "        else:\n",
    "            county_assignment[county] = [teams[i]]"
   ]
  },
  {
   "cell_type": "code",
   "execution_count": 4,
   "metadata": {},
   "outputs": [],
   "source": [
    "# helper functions for svg\n",
    "def writeNewSVGWithColorDictionary(color_dict, tooltips_dict = None):\n",
    "    tree = etree.parse(svg_loc)\n",
    "    root = tree.getroot()\n",
    "    paths = root[2]\n",
    "    for path in paths:\n",
    "        path_county_id = path.attrib[\"id\"]\n",
    "        if path_county_id not in color_dict:\n",
    "            continue\n",
    "        if color_dict[path_county_id] == \"CONTESTED\": #fill=\"url(#contested)\"\n",
    "            path.attrib[\"fill\"] = \"url(#contested);\"\n",
    "        else:\n",
    "            path.attrib[\"style\"] = \"fill: \" + color_dict[path_county_id] + \";\"\n",
    "            \n",
    "        if tooltips_dict != None and path_county_id in tooltips_dict:\n",
    "            path[0].text += \" - \" + str(tooltips_dict[path_county_id])\n",
    "    etree.ElementTree(root).write(target_loc, pretty_print=True)\n",
    "\n",
    "# helper functions to assist modifying datastructure based on events that happen\n",
    "def extract_enddate(event): # used for sorting\n",
    "    return event.end_date\n",
    "\n",
    "def extract_champtype(event):  # used for sorting\n",
    "    return event.event_type_string in champ_types\n",
    "\n",
    "def landClaim(winningTeam, list_of_losers):\n",
    "    for county in county_assignment:\n",
    "        countyOwners = county_assignment[county]\n",
    "        foundLoser = False\n",
    "        for loser in list_of_losers:\n",
    "            if loser in countyOwners:\n",
    "                county_assignment[county].remove(loser)\n",
    "                foundLoser = True\n",
    "        # if the owner won land, add them to the county if they're not already in it\n",
    "        if foundLoser and winningTeam not in county_assignment[county]: \n",
    "            county_assignment[county].append(winningTeam)"
   ]
  },
  {
   "cell_type": "code",
   "execution_count": 5,
   "metadata": {},
   "outputs": [
    {
     "name": "stdout",
     "output_type": "stream",
     "text": [
      "115 events loaded.\n"
     ]
    }
   ],
   "source": [
    "# load in all events & filter\n",
    "init_events = tba.events(year=year)\n",
    "init_events.sort(key=extract_champtype)\n",
    "init_events.sort(key=extract_enddate)\n",
    "events = []\n",
    "for event in init_events:\n",
    "    if event.event_type_string in acceptable_event_types and event.end_date <= end_date:\n",
    "        events.append(event)\n",
    "print(str(len(events)) + \" events loaded.\")"
   ]
  },
  {
   "cell_type": "code",
   "execution_count": null,
   "metadata": {},
   "outputs": [
    {
     "name": "stdout",
     "output_type": "stream",
     "text": [
      "1/115 loaded so far.\n",
      "2/115 loaded so far.\n",
      "3/115 loaded so far.\n",
      "4/115 loaded so far.\n",
      "5/115 loaded so far.\n",
      "10/115 loaded so far.\n",
      "20/115 loaded so far.\n",
      "30/115 loaded so far.\n"
     ]
    }
   ],
   "source": [
    "# go through each event, grab winner, generate list of every team at event not on winning alliance, call helper\n",
    "# function\n",
    "\n",
    "numEvent = 1\n",
    "for event in events:\n",
    "    event_alliances = tba.event_alliances(event.key)\n",
    "    event_teams = tba.event_teams(event.key, keys=True)\n",
    "    for i in range(len(event_teams)):\n",
    "        event_teams[i] = int(event_teams[i][3:])\n",
    "    winner = None\n",
    "    partners = []\n",
    "    list_of_losers = []\n",
    "    for alliance in event_alliances:\n",
    "        if (event.event_type_string not in champ_types and alliance.status[\"status\"] == 'won') or (event.event_type_string in champ_types and alliance.status[\"status\"] == 'won' and alliance.status[\"level\"] == 'f'):\n",
    "            converted_all = []\n",
    "            for i in range(len(alliance.picks)):\n",
    "                converted_all.append(int(alliance.picks[i][3:]))\n",
    "            winner = converted_all[0]\n",
    "            partners = []\n",
    "            for i in range(1, len(converted_all)):\n",
    "                partners.append(converted_all[i])\n",
    "            break\n",
    "    if event.event_type_string not in champ_types or event.playoff_type == None or event.playoff_type == 0:\n",
    "        for event_team in event_teams:\n",
    "            if event_team != winner and event_team not in partners:\n",
    "                list_of_losers.append(event_team)\n",
    "    else: # grab championship finals event alliances and mark losers\n",
    "        for alliance in event_alliances:\n",
    "            for i in range(len(alliance.picks)):\n",
    "                alliance.picks[i] = int(alliance.picks[i][3:])\n",
    "            if winner in alliance.picks:\n",
    "                continue\n",
    "            else:\n",
    "                for op_loser in alliance.picks:\n",
    "                    list_of_losers.append(op_loser)\n",
    "    # call helper func\n",
    "    landClaim(winner, list_of_losers)\n",
    "    if numEvent <= 5 or numEvent % 10 == 0:\n",
    "        print(str(numEvent) + \"/\" + str(len(events)) + \" loaded so far.\")\n",
    "    numEvent += 1"
   ]
  },
  {
   "cell_type": "code",
   "execution_count": null,
   "metadata": {},
   "outputs": [],
   "source": [
    "# create color dictionary for displaying data\n",
    "color_dict = {}\n",
    "hover_dict = {}\n",
    "for county_fips_key in county_assignment:\n",
    "    if len(county_assignment[county_fips_key]) > 1:\n",
    "        color_dict[county_fips_key] = \"CONTESTED\"\n",
    "        toAdd = str(county_assignment[county_fips_key][0])\n",
    "        for i in range(1, len(county_assignment[county_fips_key])):\n",
    "            toAdd += \", \" + str(county_assignment[county_fips_key][i])\n",
    "        hover_dict[county_fips_key] = toAdd\n",
    "    else:\n",
    "        color_dict[county_fips_key] = roboColor.getTeamRGB(county_assignment[county_fips_key][0])\n",
    "        hover_dict[county_fips_key] = str(county_assignment[county_fips_key][0])"
   ]
  },
  {
   "cell_type": "code",
   "execution_count": null,
   "metadata": {},
   "outputs": [],
   "source": [
    "# write to file\n",
    "writeNewSVGWithColorDictionary(color_dict, hover_dict)"
   ]
  },
  {
   "cell_type": "code",
   "execution_count": null,
   "metadata": {},
   "outputs": [],
   "source": [
    "# sort and print teams w/ most land\n",
    "team_county_counts = {}\n",
    "for county_fips in county_assignment:\n",
    "    for team in county_assignment[county_fips]:\n",
    "        if team not in team_county_counts:\n",
    "            team_county_counts[team] = 1\n",
    "        else:\n",
    "            team_county_counts[team] += 1\n",
    "largest_owners = sorted(team_county_counts, key=team_county_counts.get, reverse=True)\n",
    "rank = 1\n",
    "for team in largest_owners:\n",
    "    print(str(rank) + \". \" + str(team) + \" - \" + str(team_county_counts[team]) + \" counties\")\n",
    "    rank += 1"
   ]
  }
 ],
 "metadata": {
  "kernelspec": {
   "display_name": "Python 2",
   "language": "python",
   "name": "python2"
  },
  "language_info": {
   "codemirror_mode": {
    "name": "ipython",
    "version": 2
   },
   "file_extension": ".py",
   "mimetype": "text/x-python",
   "name": "python",
   "nbconvert_exporter": "python",
   "pygments_lexer": "ipython2",
   "version": "2.7.15+"
  }
 },
 "nbformat": 4,
 "nbformat_minor": 2
}
