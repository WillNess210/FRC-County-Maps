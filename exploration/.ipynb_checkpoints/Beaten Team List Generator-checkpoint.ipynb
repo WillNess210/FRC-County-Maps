{
 "cells": [
  {
   "cell_type": "code",
   "execution_count": 1,
   "metadata": {},
   "outputs": [],
   "source": [
    "import math\n",
    "import pandas as pd\n",
    "import tbapy\n",
    "import datetime\n",
    "tba = tbapy.TBA('LenYI5DMTy1bQIoP4ralqFVd5g5JvTY9YBEBAubPktLTelEdPukJZ1RVLIV1Ypfu')\n",
    "not_found_string = \"N/A\"\n",
    "write_filename = \"/home/will/Documents/Projects/frc_counties/data/beaten_teams.csv\"\n",
    "\n",
    "# settings\n",
    "year = 2019\n",
    "latest_month = 4\n",
    "latest_day = 2\n",
    "# choose from: Regional, Championship Division, Offseason, Preseason, District Championship, Championship Finals, District, District Championship Division\n",
    "acceptable_event_types = [\"Regional\", \"Championship Division\", \"District Championship\", \"Championship Finals\", \"District\", \"District Championship Division\"]#, \"Offseason\"]"
   ]
  },
  {
   "cell_type": "code",
   "execution_count": 2,
   "metadata": {},
   "outputs": [],
   "source": [
    "# get a list of all regular season events\n",
    "init_events = tba.events(year=year)"
   ]
  },
  {
   "cell_type": "code",
   "execution_count": 3,
   "metadata": {},
   "outputs": [
    {
     "name": "stdout",
     "output_type": "stream",
     "text": [
      "146 events loaded.\n"
     ]
    }
   ],
   "source": [
    "# filter to get only applicable events\n",
    "def isEventBeforeLatestDate(event):\n",
    "    event_date = event.end_date.split(\"-\")\n",
    "    for i in range(len(event_date)):\n",
    "        event_date[i] = int(event_date[i])\n",
    "    return year >= event_date[0] and (latest_month > event_date[1] or (latest_month == event_date[1] and event_date[2] <= latest_day))\n",
    "    \n",
    "\n",
    "events = []\n",
    "for event in init_events:\n",
    "    if event.event_type_string in acceptable_event_types and isEventBeforeLatestDate(event):\n",
    "        events.append(event)\n",
    "print(str(len(events)) + \" events loaded.\")"
   ]
  },
  {
   "cell_type": "code",
   "execution_count": 4,
   "metadata": {},
   "outputs": [
    {
     "name": "stdout",
     "output_type": "stream",
     "text": [
      "1/146 events losses loaded so far.\n",
      "2/146 events losses loaded so far.\n",
      "3/146 events losses loaded so far.\n",
      "4/146 events losses loaded so far.\n",
      "5/146 events losses loaded so far.\n",
      "10/146 events losses loaded so far.\n",
      "20/146 events losses loaded so far.\n",
      "30/146 events losses loaded so far.\n",
      "40/146 events losses loaded so far.\n",
      "50/146 events losses loaded so far.\n",
      "60/146 events losses loaded so far.\n",
      "70/146 events losses loaded so far.\n",
      "80/146 events losses loaded so far.\n",
      "90/146 events losses loaded so far.\n",
      "100/146 events losses loaded so far.\n",
      "110/146 events losses loaded so far.\n",
      "120/146 events losses loaded so far.\n",
      "130/146 events losses loaded so far.\n",
      "140/146 events losses loaded so far.\n"
     ]
    }
   ],
   "source": [
    "# go through each event and get the standings. Add teams & update losses in the dictionary.\n",
    "# also add 1 loss to teams who signed up but didn't play\n",
    "team_losses = {}\n",
    "num_event = 1\n",
    "for event in events:\n",
    "    # add qual losses\n",
    "    rankings = tba.event_rankings(event.key).rankings\n",
    "    for team_ranking in rankings:\n",
    "        team = int(team_ranking[\"team_key\"][3:])\n",
    "        if team in team_losses:\n",
    "            team_losses[team] += team_ranking[\"record\"][\"losses\"]\n",
    "        else:\n",
    "            team_losses[team] = team_ranking[\"record\"][\"losses\"]\n",
    "    # add elim losses\n",
    "    alliances = tba.event_alliances(event.key)\n",
    "    for alliance in alliances:\n",
    "        teams = alliance[\"picks\"]\n",
    "        for i in range(len(teams)):\n",
    "            teams[i] = int(teams[i][3:])\n",
    "        for team in teams:\n",
    "            team_losses[team] += alliance[\"status\"][\"record\"][\"losses\"]\n",
    "    # for every team at event, check if exist in rankings, if not add a loss\n",
    "    allteams = tba.event_teams(event.key, keys=True)\n",
    "    for teamf in allteams:\n",
    "        team = int(teamf[3:])\n",
    "        if team not in team_losses: # search to see if they exist in rankings\n",
    "            found = False\n",
    "            for oth_team_ranking in rankings:\n",
    "                oth_team = int(oth_team_ranking[\"team_key\"][3:])\n",
    "                if oth_team == team:\n",
    "                    found = True\n",
    "            if found == False:\n",
    "                team_losses[team] = 1\n",
    "                \n",
    "            \n",
    "    if num_event <= 5 or num_event % 10 == 0:\n",
    "        print(str(num_event) + \"/\" + str(len(events)) + \" events losses loaded so far.\")\n",
    "    num_event += 1"
   ]
  },
  {
   "cell_type": "code",
   "execution_count": 5,
   "metadata": {},
   "outputs": [
    {
     "name": "stdout",
     "output_type": "stream",
     "text": [
      "1/193 events valid teams loaded so far.\n",
      "2/193 events valid teams loaded so far.\n",
      "3/193 events valid teams loaded so far.\n",
      "4/193 events valid teams loaded so far.\n",
      "5/193 events valid teams loaded so far.\n",
      "10/193 events valid teams loaded so far.\n",
      "20/193 events valid teams loaded so far.\n",
      "30/193 events valid teams loaded so far.\n",
      "40/193 events valid teams loaded so far.\n",
      "50/193 events valid teams loaded so far.\n",
      "60/193 events valid teams loaded so far.\n",
      "70/193 events valid teams loaded so far.\n",
      "80/193 events valid teams loaded so far.\n",
      "90/193 events valid teams loaded so far.\n",
      "100/193 events valid teams loaded so far.\n",
      "110/193 events valid teams loaded so far.\n",
      "120/193 events valid teams loaded so far.\n",
      "130/193 events valid teams loaded so far.\n",
      "140/193 events valid teams loaded so far.\n",
      "150/193 events valid teams loaded so far.\n",
      "160/193 events valid teams loaded so far.\n",
      "170/193 events valid teams loaded so far.\n",
      "180/193 events valid teams loaded so far.\n",
      "190/193 events valid teams loaded so far.\n"
     ]
    }
   ],
   "source": [
    "# grab all teams that competed in a valid event\n",
    "all_valid_events = []\n",
    "for event in init_events:\n",
    "    if event.event_type_string in acceptable_event_types:\n",
    "        all_valid_events.append(event)\n",
    "validTeams = {}\n",
    "num_event = 1\n",
    "for event in all_valid_events:\n",
    "    for team in tba.event_teams(event.key, keys=True):\n",
    "        if len(team) > 0:\n",
    "            teamInt = int(team[3:])\n",
    "            validTeams[teamInt] = True\n",
    "    if num_event <= 5 or num_event % 10 == 0:\n",
    "        print(str(num_event) + \"/\" + str(len(all_valid_events)) + \" events valid teams loaded so far.\")\n",
    "    num_event += 1"
   ]
  },
  {
   "cell_type": "code",
   "execution_count": 6,
   "metadata": {},
   "outputs": [
    {
     "name": "stdout",
     "output_type": "stream",
     "text": [
      "(3807, 30)\n"
     ]
    }
   ],
   "source": [
    "# remove all teams that didn't participated this year (the same list we use in the county generator)\n",
    "alldata = tba.teams(year=2019)\n",
    "invalidTeams = []\n",
    "for team in alldata:\n",
    "    if team.team_number not in validTeams:\n",
    "        invalidTeams.append(int(team.team_number))\n",
    "print(len(alldata), len(invalidTeams))"
   ]
  },
  {
   "cell_type": "code",
   "execution_count": 7,
   "metadata": {},
   "outputs": [
    {
     "name": "stdout",
     "output_type": "stream",
     "text": [
      "Found unbeaten team: 1114\n",
      "Found unbeaten team: 1323\n",
      "Found unbeaten team: 2056\n",
      "Found unbeaten team: 2478\n",
      "3695/3669 teams have lost a match.\n"
     ]
    },
    {
     "data": {
      "text/plain": [
       "'for i in range(10000):\\n    if i not in team_losses:\\n        beaten_teams.append(i)\\n    elif team_losses[i] == 0:\\n        print(\"Didn\\'t add \" + str(i) + str(i in beaten_teams))'"
      ]
     },
     "execution_count": 7,
     "metadata": {},
     "output_type": "execute_result"
    }
   ],
   "source": [
    "# loop through all teams, find undefeated, and store in list. print as you find\n",
    "beaten_teams = invalidTeams\n",
    "for team in team_losses:\n",
    "    if team in beaten_teams:\n",
    "        continue\n",
    "    if team_losses[team] > 0:\n",
    "        beaten_teams.append(team)\n",
    "    else:\n",
    "        print(\"Found unbeaten team: \" + str(team))\n",
    "print(str(len(beaten_teams)) + \"/\" + str(len(team_losses)) + \" teams have lost a match.\")\n",
    "\n",
    "'''for i in range(10000):\n",
    "    if i not in team_losses:\n",
    "        beaten_teams.append(i)\n",
    "    elif team_losses[i] == 0:\n",
    "        print(\"Didn't add \" + str(i) + str(i in beaten_teams))'''"
   ]
  },
  {
   "cell_type": "code",
   "execution_count": 8,
   "metadata": {},
   "outputs": [],
   "source": [
    "# write beaten_teams to write_filename as csv\n",
    "writer = open(write_filename, \"w+\")\n",
    "writer.write(\"Team\\n\")\n",
    "for team in beaten_teams:\n",
    "    writer.write(str(team) + \"\\n\")\n",
    "writer.close()"
   ]
  }
 ],
 "metadata": {
  "kernelspec": {
   "display_name": "Python 2",
   "language": "python",
   "name": "python2"
  },
  "language_info": {
   "codemirror_mode": {
    "name": "ipython",
    "version": 2
   },
   "file_extension": ".py",
   "mimetype": "text/x-python",
   "name": "python",
   "nbconvert_exporter": "python",
   "pygments_lexer": "ipython2",
   "version": "2.7.15+"
  }
 },
 "nbformat": 4,
 "nbformat_minor": 2
}
