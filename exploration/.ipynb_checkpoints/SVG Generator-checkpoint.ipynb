{
 "cells": [
  {
   "cell_type": "code",
   "execution_count": 1,
   "metadata": {},
   "outputs": [],
   "source": [
    "from lxml import etree\n",
    "svg_loc = \"/home/will/Documents/Projects/frc_counties/data/counties.svg\"\n",
    "store_as_loc = \"/home/will/Documents/Projects/frc_counties/data/counties_changed.svg\"\n",
    "write_step_size = 100\n",
    "\n",
    "tree = etree.parse(svg_loc)\n",
    "root = tree.getroot()"
   ]
  },
  {
   "cell_type": "markdown",
   "metadata": {},
   "source": [
    "## Part 1 - Store SVG data in CSV file, so we can use it to recreate the SVG later but with different tooltips"
   ]
  },
  {
   "cell_type": "markdown",
   "metadata": {},
   "source": [
    "## Part 2 - Use CSV file with preferred county tooltips to generate new SVG"
   ]
  },
  {
   "cell_type": "code",
   "execution_count": 2,
   "metadata": {},
   "outputs": [
    {
     "name": "stdout",
     "output_type": "stream",
     "text": [
      "changed tooltip\n"
     ]
    }
   ],
   "source": [
    "def changeTooltipOf(countyId, nextTooltip):\n",
    "    g = root[2]\n",
    "    for county_path in g:\n",
    "        if county_path.attrib[\"id\"] == countyId:\n",
    "            county_path[0].text = nextTooltip\n",
    "            print(\"changed tooltip\")\n",
    "    root[2] = g\n",
    "    \n",
    "changeTooltipOf(\"c51153\", \"Changed!\")"
   ]
  },
  {
   "cell_type": "code",
   "execution_count": null,
   "metadata": {},
   "outputs": [],
   "source": [
    "# write new tree to file\n",
    "writer = open(store_as_loc, \"w\")\n",
    "wholeFile = etree.tostring(root)\n",
    "while(len(wholeFile) > 0):\n",
    "    toWrite = \"\"\n",
    "    if(len(wholeFile) <= write_step_size):\n",
    "        toWrite = wholeFile + \"\"\n",
    "        wholeFile = \"\"\n",
    "    else:\n",
    "        toWrite = wholeFile[:write_step_size]\n",
    "        wholeFile = wholeFile[write_step_size:]\n",
    "    writer.write(toWrite)\n",
    "writer.close()"
   ]
  }
 ],
 "metadata": {
  "kernelspec": {
   "display_name": "Python 2",
   "language": "python",
   "name": "python2"
  },
  "language_info": {
   "codemirror_mode": {
    "name": "ipython",
    "version": 2
   },
   "file_extension": ".py",
   "mimetype": "text/x-python",
   "name": "python",
   "nbconvert_exporter": "python",
   "pygments_lexer": "ipython2",
   "version": "2.7.15+"
  }
 },
 "nbformat": 4,
 "nbformat_minor": 2
}
