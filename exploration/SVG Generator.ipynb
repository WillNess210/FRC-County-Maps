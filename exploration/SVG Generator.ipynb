{
 "cells": [
  {
   "cell_type": "code",
   "execution_count": 1,
   "metadata": {},
   "outputs": [],
   "source": [
    "from lxml import etree\n",
    "svg_loc = \"/home/will/Documents/Projects/frc_counties/data/counties.svg\"\n",
    "store_as_loc = \"/home/will/Documents/Projects/frc_counties/data/counties_changed.svg\"\n",
    "write_step_size = 100\n",
    "\n",
    "tree = etree.parse(svg_loc)\n",
    "root = tree.getroot()"
   ]
  },
  {
   "cell_type": "markdown",
   "metadata": {},
   "source": [
    "## Part 2 - Use CSV file with preferred county tooltips to generate new SVG"
   ]
  },
  {
   "cell_type": "code",
   "execution_count": 2,
   "metadata": {},
   "outputs": [],
   "source": [
    "def changeTooltipOfCounty(countyId, nextTooltip):\n",
    "    g = root[2]\n",
    "    for county_path in g:\n",
    "        if county_path.attrib[\"id\"] == countyId:\n",
    "            county_path[0].text = nextTooltip\n",
    "    \n",
    "changeTooltipOfCounty(\"c51153\", \"Changed!\")"
   ]
  },
  {
   "cell_type": "code",
   "execution_count": 3,
   "metadata": {},
   "outputs": [],
   "source": [
    "# write new tree to file\n",
    "etree.ElementTree(root).write(store_as_loc, pretty_print=True)"
   ]
  }
 ],
 "metadata": {
  "kernelspec": {
   "display_name": "Python 2",
   "language": "python",
   "name": "python2"
  },
  "language_info": {
   "codemirror_mode": {
    "name": "ipython",
    "version": 2
   },
   "file_extension": ".py",
   "mimetype": "text/x-python",
   "name": "python",
   "nbconvert_exporter": "python",
   "pygments_lexer": "ipython2",
   "version": "2.7.15+"
  }
 },
 "nbformat": 4,
 "nbformat_minor": 2
}
