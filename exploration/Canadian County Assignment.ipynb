{
 "cells": [
  {
   "cell_type": "code",
   "execution_count": 67,
   "metadata": {},
   "outputs": [],
   "source": [
    "import pandas as pd\n",
    "import tbapy\n",
    "tba = tbapy.TBA('kuosW2jPtJ4Lj0m3HxcDr9mLTI7JHSzimVTYvBrbZdtFdMKqPwzDpnE4jTZy9G6G')\n",
    "file_dest = \"/home/will/Documents/Projects/frc_counties/data/zipcode_request.csv\""
   ]
  },
  {
   "cell_type": "code",
   "execution_count": 68,
   "metadata": {},
   "outputs": [
    {
     "name": "stdout",
     "output_type": "stream",
     "text": [
      "188 , M1G 3M3\n",
      "296 , H4B 1R2\n",
      "610 , m2l1a2\n",
      "746 , M3N 1W7\n",
      "771 , L6J 2L1\n"
     ]
    }
   ],
   "source": [
    "# find all canada teams\n",
    "teams = [team for team in tba.teams(year=2020) if team.country == \"Canada\"]\n",
    "for i in range(min(len(teams), 5)):\n",
    "    print(teams[i].key[3:], \",\", teams[i].postal_code)"
   ]
  },
  {
   "cell_type": "code",
   "execution_count": 72,
   "metadata": {},
   "outputs": [
    {
     "name": "stdout",
     "output_type": "stream",
     "text": [
      "270\n",
      "267\n",
      "{'N8X 2R2', 'V7M 2W7', 'N9E 1A4', 'T2N 1M6', 'N6A 1B9', 'L5N3B2', 'J4T 2V8', 'N2L 3X5', 'M1B 3G5', 'N8H 5C7', 'H2E 1R9', 'J3H 0K4', 'M4C 2V2', 'L5C1Y5', 'M4M 2A1', 'N5Y 5R6', 'H8S 4C4', 'L7L1V3', 'M1W2K1', 'H2K 3S9', 'J1X 3Y6', 'N4S 2C8', 'G5A 1T3', 'V0K 2E0', 'L0M 1S0', 'G1H 1H1', 'L3R 8G5', 'N0B 1M0', 'M1L0H2', 'N9J 2J1', 'L7G3Z5', 'L3P 3K8', 'J7E 1N7', 'L5V1N6', 'L4L1J3', 'V1X 3B6', 'L5V2B9', 'V3H 2M5', 'N6B 1W5', 'M1C 2C6', 'G8Z 3R8', 'T4A1X9', 'T9H 4V6', 'K2C3M5', 'N7S 6L4', 'L6J 2L1', ' V8Z 6E9', 'N6C1T4', 'L4G1J5', 'P7A2J6'}\n"
     ]
    }
   ],
   "source": [
    "# print first 50 unique frc team zip codes\n",
    "teams_postalcodes = [team.postal_code.upper() for team in teams]\n",
    "print(len(teams_postalcodes))\n",
    "teams_postalcodes = list(set(teams_postalcodes))\n",
    "print(len(teams_postalcodes))\n",
    "print(set(teams_postalcodes[:min(50,len(teams_postalcodes))]))"
   ]
  },
  {
   "cell_type": "code",
   "execution_count": 73,
   "metadata": {},
   "outputs": [],
   "source": [
    "# generate csv to send into geocod.io\n",
    "to_send_str = \"Zip,Country\\n\"\n",
    "for code in teams_postalcodes:\n",
    "    to_send_str += code + \",Canada\\n\"\n",
    "writer = open(file_dest, \"w\")\n",
    "writer.write(to_send_str)\n",
    "writer.close()"
   ]
  },
  {
   "cell_type": "markdown",
   "metadata": {},
   "source": [
    "Now go and run zipcode_request through Geocod.io, and save it as canadian_zipcodes_to_cd.csv in the data folder. Then continue on to make a dataset for FRC Team -> Census Division ID"
   ]
  },
  {
   "cell_type": "code",
   "execution_count": 77,
   "metadata": {},
   "outputs": [],
   "source": [
    "file_src = \"/home/will/Documents/Projects/frc_counties/data/canadian_zipcodes_to_cd.csv\""
   ]
  },
  {
   "cell_type": "code",
   "execution_count": 79,
   "metadata": {},
   "outputs": [
    {
     "name": "stdout",
     "output_type": "stream",
     "text": [
      "Index(['Zip', 'Country', 'Latitude', 'Longitude', 'Accuracy Score',\n",
      "       'Accuracy Type', 'Number', 'Street', 'City', 'State', 'County', 'Zip.1',\n",
      "       'Country.1', 'Source', 'Statcan Census Division id',\n",
      "       'Statcan Census Division Name', 'Statcan Census Division Type',\n",
      "       'Statcan Census Division Type Description',\n",
      "       'Statcan Census Consolidated Subdivision id',\n",
      "       'Statcan Census Consolidated Subdivision Name',\n",
      "       'Statcan Census Subdivision id', 'Statcan Census Subdivision Name',\n",
      "       'Statcan Census Subdivision Type',\n",
      "       'Statcan Census Subdivision Type Description',\n",
      "       'Statcan Census Economic Region',\n",
      "       'Statcan Census Statistical Area Code',\n",
      "       'Statcan Census Statistical Area Code Description',\n",
      "       'Statcan Census Statistical Area Type',\n",
      "       'Statcan Census Statistical Area Type Description',\n",
      "       'Statcan Census CMA/CA id', 'Statcan Census CMA/CA Name',\n",
      "       'Statcan Census CMA/CA Type', 'Statcan Census CMA/CA Type Description',\n",
      "       'Statcan Census Tract', 'Statcan Census Year'],\n",
      "      dtype='object')\n"
     ]
    }
   ],
   "source": [
    "# read in zipcode request\n",
    "zipcode_data = pd.read_csv(file_src)\n",
    "print(zipcode_data.columns)"
   ]
  },
  {
   "cell_type": "code",
   "execution_count": 80,
   "metadata": {},
   "outputs": [
    {
     "name": "stdout",
     "output_type": "stream",
     "text": [
      "{2432, 2436, 2437, 4613, 2443, 2445, 2446, 5903, 2449, 5907, 2457, 2458, 5915, 5917, 2464, 2466, 2467, 5926, 2473, 2475, 5933, 5935, 3506, 3507, 3509, 3510, 2486, 3516, 3518, 3519, 3520, 3521, 4802, 3523, 3524, 3525, 4806, 3526, 3529, 3530, 4811, 3532, 3534, 4815, 4816, 3537, 3538, 3539, 3536, 3541, 3542, 3543, 3544, 3547, 3548, 3551, 3553, 4706, 4707, 3558, 2408, 3560, 2410, 4718, 2415, 2423, 2426, 2429, 4607}\n"
     ]
    }
   ],
   "source": [
    "print(set(zipcode_data[\"Statcan Census Division id\"]))"
   ]
  }
 ],
 "metadata": {
  "kernelspec": {
   "display_name": "Python 3",
   "language": "python",
   "name": "python3"
  },
  "language_info": {
   "codemirror_mode": {
    "name": "ipython",
    "version": 3
   },
   "file_extension": ".py",
   "mimetype": "text/x-python",
   "name": "python",
   "nbconvert_exporter": "python",
   "pygments_lexer": "ipython3",
   "version": "3.6.9"
  }
 },
 "nbformat": 4,
 "nbformat_minor": 4
}
