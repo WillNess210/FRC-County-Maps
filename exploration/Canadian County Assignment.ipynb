{
 "cells": [
  {
   "cell_type": "markdown",
   "metadata": {},
   "source": [
    "First section - find all canadian FRC teams, and get a list of the unique postal codes to send to geocod.io in order to get census division ids for them\n",
    "--"
   ]
  },
  {
   "cell_type": "code",
   "execution_count": 1,
   "metadata": {},
   "outputs": [],
   "source": [
    "import pandas as pd\n",
    "import tbapy\n",
    "tba = tbapy.TBA('kuosW2jPtJ4Lj0m3HxcDr9mLTI7JHSzimVTYvBrbZdtFdMKqPwzDpnE4jTZy9G6G')\n",
    "file_dest = \"/home/will/Documents/Projects/frc_counties/data/zipcode_request.csv\""
   ]
  },
  {
   "cell_type": "code",
   "execution_count": 2,
   "metadata": {},
   "outputs": [
    {
     "name": "stdout",
     "output_type": "stream",
     "text": [
      "188 , M1G 3M3\n",
      "296 , H4B 1R2\n",
      "610 , m2l1a2\n",
      "746 , M3N 1W7\n",
      "771 , L6J 2L1\n"
     ]
    }
   ],
   "source": [
    "# find all canada teams\n",
    "teams = [team for team in tba.teams(year=2020) if team.country == \"Canada\"]\n",
    "for i in range(min(len(teams), 5)):\n",
    "    print(teams[i].key[3:], \",\", teams[i].postal_code)"
   ]
  },
  {
   "cell_type": "code",
   "execution_count": 3,
   "metadata": {},
   "outputs": [
    {
     "name": "stdout",
     "output_type": "stream",
     "text": [
      "270\n",
      "267\n",
      "{'H3P 2X8', 'H3H 1E3', 'P3E 2P8', 'K2C3M5', 'H2P 1W9', 'H1N 1A2', 'H2E 1R9', 'N8X 2R7', 'L2N 2Z7', 'G5A 1T3', 'M6A 1B1', 'N5Y 5R6', 'P0P 2J0', 'P1L 2E9', 'V2A 3T1', 'L5R 3N9 ', 'V3H 2M5', 'V6L 2E7', 'L5N3B2', 'L4L1J3', 'M9B 3G7', 'P7A2J6', 'L4G1J5', 'N6H 1V4', 'N2G 3C8', 'M2N 7H1', 'T1J3E5', 'L8W 1B8', 'K7S 1X2', 'J2B6A2', 'M4M 2A1', 'J1H 1L6', 'N0M 2K0', 'N2H 1H6', 'K7L2Z5', 'L3P 4N3', 'M6R 2V5', 'N1L 1G1', 'L1R 2K5', 'N6C1T4', 'H2K 3S9', 'N5X 4B1', 'G5Y 5S1', 'M9V 3B2', 'L6S 1V3', 'T3J 0H5', 'J2K 3R9', 'G8Z 3R8', 'L8E 4M5', 'L8S 4P3'}\n"
     ]
    }
   ],
   "source": [
    "# print first 50 unique frc team zip codes\n",
    "teams_postalcodes = [team.postal_code.upper() for team in teams]\n",
    "print(len(teams_postalcodes))\n",
    "teams_postalcodes = list(set(teams_postalcodes))\n",
    "print(len(teams_postalcodes))\n",
    "print(set(teams_postalcodes[:min(50,len(teams_postalcodes))]))"
   ]
  },
  {
   "cell_type": "code",
   "execution_count": 4,
   "metadata": {},
   "outputs": [],
   "source": [
    "# generate csv to send into geocod.io\n",
    "to_send_str = \"Zip,Country\\n\"\n",
    "for code in teams_postalcodes:\n",
    "    to_send_str += code + \",Canada\\n\"\n",
    "writer = open(file_dest, \"w\")\n",
    "writer.write(to_send_str)\n",
    "writer.close()"
   ]
  },
  {
   "cell_type": "markdown",
   "metadata": {},
   "source": [
    "Now go and run zipcode_request through Geocod.io, and save it as canadian_zipcodes_to_cd.csv in the data folder.  \n",
    "--\n",
    "Then continue on to make a dataset for FRC Team -> Census Division ID\n",
    "--"
   ]
  },
  {
   "cell_type": "code",
   "execution_count": 5,
   "metadata": {},
   "outputs": [],
   "source": [
    "file_src = \"/home/will/Documents/Projects/frc_counties/data/canadian_zipcodes_to_cd.csv\"\n",
    "file_dest = \"/home/will/Documents/Projects/frc_counties/data/canadian_team_to_cd_id.csv\""
   ]
  },
  {
   "cell_type": "code",
   "execution_count": 6,
   "metadata": {},
   "outputs": [
    {
     "name": "stdout",
     "output_type": "stream",
     "text": [
      "Index(['Zip', 'Country', 'Latitude', 'Longitude', 'Accuracy Score',\n",
      "       'Accuracy Type', 'Number', 'Street', 'City', 'State', 'County', 'Zip.1',\n",
      "       'Country.1', 'Source', 'Statcan Census Division id',\n",
      "       'Statcan Census Division Name', 'Statcan Census Division Type',\n",
      "       'Statcan Census Division Type Description',\n",
      "       'Statcan Census Consolidated Subdivision id',\n",
      "       'Statcan Census Consolidated Subdivision Name',\n",
      "       'Statcan Census Subdivision id', 'Statcan Census Subdivision Name',\n",
      "       'Statcan Census Subdivision Type',\n",
      "       'Statcan Census Subdivision Type Description',\n",
      "       'Statcan Census Economic Region',\n",
      "       'Statcan Census Statistical Area Code',\n",
      "       'Statcan Census Statistical Area Code Description',\n",
      "       'Statcan Census Statistical Area Type',\n",
      "       'Statcan Census Statistical Area Type Description',\n",
      "       'Statcan Census CMA/CA id', 'Statcan Census CMA/CA Name',\n",
      "       'Statcan Census CMA/CA Type', 'Statcan Census CMA/CA Type Description',\n",
      "       'Statcan Census Tract', 'Statcan Census Year'],\n",
      "      dtype='object')\n"
     ]
    }
   ],
   "source": [
    "# read in zipcode request\n",
    "zipcode_data = pd.read_csv(file_src)\n",
    "print(zipcode_data.columns)"
   ]
  },
  {
   "cell_type": "code",
   "execution_count": 7,
   "metadata": {},
   "outputs": [
    {
     "name": "stdout",
     "output_type": "stream",
     "text": [
      "frc188 3520\n",
      "frc296 2466\n",
      "frc610 3520\n",
      "frc746 3520\n",
      "frc771 3524\n"
     ]
    }
   ],
   "source": [
    "# row in merged_data = (team, statcan census division id)\n",
    "def getStatcanCID(zipcode):\n",
    "    for idx, row in zipcode_data.iterrows():\n",
    "        if row[\"Zip\"] == zipcode:\n",
    "            return row[\"Statcan Census Division id\"]\n",
    "\n",
    "merged_data = [[team, None] for team in teams]\n",
    "for idx, [team, b] in enumerate(merged_data):\n",
    "    merged_data[idx][1] = getStatcanCID(team.postal_code.upper())\n",
    "    if idx < 5:\n",
    "        print(team.key, merged_data[idx][1])"
   ]
  },
  {
   "cell_type": "code",
   "execution_count": 8,
   "metadata": {},
   "outputs": [],
   "source": [
    "#  write to file\n",
    "to_write = \"Team,cd_id\\n\"\n",
    "for [team, cd_id] in merged_data:\n",
    "    to_write += team.key[3:] + \",\" + str(cd_id) + \"\\n\"\n",
    "\n",
    "writer = open(file_dest, \"w\")\n",
    "writer.write(to_write)\n",
    "writer.close()"
   ]
  },
  {
   "cell_type": "markdown",
   "metadata": {},
   "source": [
    "Now let's append to counties_loc (county id -> lat/long) dataset our (census division id -> lat/long) data. Use the first column \"Sort [1]\" and set to -1 for all canada rows. We'll use this in our program to differentiate whether to parse the id as a USA county id or a Canadian county ID\n",
    "--"
   ]
  },
  {
   "cell_type": "code",
   "execution_count": 9,
   "metadata": {},
   "outputs": [],
   "source": [
    "counties_loc = \"/home/will/Documents/Projects/frc_counties/data/counties_loc.csv\"\n",
    "counties_app_loc = \"/home/will/Documents/Projects/frc_counties/data/counties_loc_w_canada.csv\""
   ]
  },
  {
   "cell_type": "code",
   "execution_count": 10,
   "metadata": {},
   "outputs": [
    {
     "name": "stdout",
     "output_type": "stream",
     "text": [
      "H3P 2X8 | 45.5217 -73.6393\n",
      "P3E 2P8 | 46.49272 -80.99121099999999\n",
      "H3H 1E3 | 45.5009 -73.5877\n",
      "K2C3M5 | 45.3679 -75.7381\n",
      "H2P 1W9 | 45.5435 -73.6339\n"
     ]
    }
   ],
   "source": [
    "# get data in good format\n",
    "def getLatLong(zipcode):\n",
    "    for idx, row in zipcode_data.iterrows():\n",
    "        if row[\"Zip\"] == zipcode:\n",
    "            return row[\"Latitude\"], row[\"Longitude\"]\n",
    "\n",
    "        \n",
    "# merged_data row = (zipcode, lat, long)\n",
    "merged_data = [[code, None, None] for code in teams_postalcodes]\n",
    "for idx, [code, b, c] in enumerate(merged_data):\n",
    "    lat, long = getLatLong(code)\n",
    "    merged_data[idx][1] = lat\n",
    "    merged_data[idx][2] = long\n",
    "    if idx < 5:\n",
    "        print(code, \"|\", merged_data[idx][1], merged_data[idx][2])"
   ]
  },
  {
   "cell_type": "code",
   "execution_count": 11,
   "metadata": {},
   "outputs": [
    {
     "name": "stdout",
     "output_type": "stream",
     "text": [
      "3144\n"
     ]
    },
    {
     "data": {
      "text/html": [
       "<div>\n",
       "<style scoped>\n",
       "    .dataframe tbody tr th:only-of-type {\n",
       "        vertical-align: middle;\n",
       "    }\n",
       "\n",
       "    .dataframe tbody tr th {\n",
       "        vertical-align: top;\n",
       "    }\n",
       "\n",
       "    .dataframe thead th {\n",
       "        text-align: right;\n",
       "    }\n",
       "</style>\n",
       "<table border=\"1\" class=\"dataframe\">\n",
       "  <thead>\n",
       "    <tr style=\"text-align: right;\">\n",
       "      <th></th>\n",
       "      <th>Sort [1]</th>\n",
       "      <th>State</th>\n",
       "      <th>FIPS</th>\n",
       "      <th>County [2]</th>\n",
       "      <th>Population(2010)</th>\n",
       "      <th>Land Areakm²</th>\n",
       "      <th>Land Areami²</th>\n",
       "      <th>Water Areakm²</th>\n",
       "      <th>Water Areami²</th>\n",
       "      <th>Total Areakm²</th>\n",
       "      <th>Total Areami²</th>\n",
       "      <th>Latitude</th>\n",
       "      <th>Longitude</th>\n",
       "    </tr>\n",
       "  </thead>\n",
       "  <tbody>\n",
       "    <tr>\n",
       "      <th>0</th>\n",
       "      <td>1</td>\n",
       "      <td>AL</td>\n",
       "      <td>c01001</td>\n",
       "      <td>Autauga</td>\n",
       "      <td>54,571</td>\n",
       "      <td>1,539.58</td>\n",
       "      <td>594.436</td>\n",
       "      <td>25.776</td>\n",
       "      <td>9.952</td>\n",
       "      <td>1,565.36</td>\n",
       "      <td>604.388</td>\n",
       "      <td>32.536382</td>\n",
       "      <td>-86.644490</td>\n",
       "    </tr>\n",
       "    <tr>\n",
       "      <th>1</th>\n",
       "      <td>2</td>\n",
       "      <td>AL</td>\n",
       "      <td>c01003</td>\n",
       "      <td>Baldwin</td>\n",
       "      <td>182,265</td>\n",
       "      <td>4,117.52</td>\n",
       "      <td>1,589.78</td>\n",
       "      <td>1,133.19</td>\n",
       "      <td>437.527</td>\n",
       "      <td>5,250.71</td>\n",
       "      <td>2,027.31</td>\n",
       "      <td>30.659218</td>\n",
       "      <td>-87.746067</td>\n",
       "    </tr>\n",
       "    <tr>\n",
       "      <th>2</th>\n",
       "      <td>3</td>\n",
       "      <td>AL</td>\n",
       "      <td>c01005</td>\n",
       "      <td>Barbour</td>\n",
       "      <td>27,457</td>\n",
       "      <td>2,291.82</td>\n",
       "      <td>884.876</td>\n",
       "      <td>50.865</td>\n",
       "      <td>19.639</td>\n",
       "      <td>2,342.68</td>\n",
       "      <td>904.515</td>\n",
       "      <td>31.870670</td>\n",
       "      <td>-85.405456</td>\n",
       "    </tr>\n",
       "    <tr>\n",
       "      <th>3</th>\n",
       "      <td>4</td>\n",
       "      <td>AL</td>\n",
       "      <td>c01007</td>\n",
       "      <td>Bibb</td>\n",
       "      <td>22,915</td>\n",
       "      <td>1,612.48</td>\n",
       "      <td>622.582</td>\n",
       "      <td>9.289</td>\n",
       "      <td>3.587</td>\n",
       "      <td>1,621.77</td>\n",
       "      <td>626.169</td>\n",
       "      <td>33.015893</td>\n",
       "      <td>-87.127148</td>\n",
       "    </tr>\n",
       "    <tr>\n",
       "      <th>4</th>\n",
       "      <td>5</td>\n",
       "      <td>AL</td>\n",
       "      <td>c01009</td>\n",
       "      <td>Blount</td>\n",
       "      <td>57,322</td>\n",
       "      <td>1,669.96</td>\n",
       "      <td>644.776</td>\n",
       "      <td>15.157</td>\n",
       "      <td>5.852</td>\n",
       "      <td>1,685.12</td>\n",
       "      <td>650.628</td>\n",
       "      <td>33.977448</td>\n",
       "      <td>-86.567246</td>\n",
       "    </tr>\n",
       "  </tbody>\n",
       "</table>\n",
       "</div>"
      ],
      "text/plain": [
       "   Sort [1] State    FIPS County [2] Population(2010) Land Areakm²  \\\n",
       "0         1    AL  c01001    Autauga           54,571     1,539.58   \n",
       "1         2    AL  c01003    Baldwin          182,265     4,117.52   \n",
       "2         3    AL  c01005    Barbour           27,457     2,291.82   \n",
       "3         4    AL  c01007       Bibb           22,915     1,612.48   \n",
       "4         5    AL  c01009     Blount           57,322     1,669.96   \n",
       "\n",
       "  Land Areami² Water Areakm² Water Areami² Total Areakm² Total Areami²  \\\n",
       "0      594.436        25.776         9.952      1,565.36       604.388   \n",
       "1     1,589.78      1,133.19       437.527      5,250.71      2,027.31   \n",
       "2      884.876        50.865        19.639      2,342.68       904.515   \n",
       "3      622.582         9.289         3.587      1,621.77       626.169   \n",
       "4      644.776        15.157         5.852      1,685.12       650.628   \n",
       "\n",
       "    Latitude  Longitude  \n",
       "0  32.536382 -86.644490  \n",
       "1  30.659218 -87.746067  \n",
       "2  31.870670 -85.405456  \n",
       "3  33.015893 -87.127148  \n",
       "4  33.977448 -86.567246  "
      ]
     },
     "execution_count": 11,
     "metadata": {},
     "output_type": "execute_result"
    }
   ],
   "source": [
    "# load counties_loc into pd\n",
    "cnt_loc = pd.read_csv(counties_loc)\n",
    "print(len(cnt_loc.index))\n",
    "cnt_loc.head()"
   ]
  },
  {
   "cell_type": "code",
   "execution_count": 12,
   "metadata": {},
   "outputs": [
    {
     "name": "stdout",
     "output_type": "stream",
     "text": [
      "3411\n"
     ]
    },
    {
     "data": {
      "text/html": [
       "<div>\n",
       "<style scoped>\n",
       "    .dataframe tbody tr th:only-of-type {\n",
       "        vertical-align: middle;\n",
       "    }\n",
       "\n",
       "    .dataframe tbody tr th {\n",
       "        vertical-align: top;\n",
       "    }\n",
       "\n",
       "    .dataframe thead th {\n",
       "        text-align: right;\n",
       "    }\n",
       "</style>\n",
       "<table border=\"1\" class=\"dataframe\">\n",
       "  <thead>\n",
       "    <tr style=\"text-align: right;\">\n",
       "      <th></th>\n",
       "      <th>Sort [1]</th>\n",
       "      <th>State</th>\n",
       "      <th>FIPS</th>\n",
       "      <th>County [2]</th>\n",
       "      <th>Population(2010)</th>\n",
       "      <th>Land Areakm²</th>\n",
       "      <th>Land Areami²</th>\n",
       "      <th>Water Areakm²</th>\n",
       "      <th>Water Areami²</th>\n",
       "      <th>Total Areakm²</th>\n",
       "      <th>Total Areami²</th>\n",
       "      <th>Latitude</th>\n",
       "      <th>Longitude</th>\n",
       "    </tr>\n",
       "  </thead>\n",
       "  <tbody>\n",
       "    <tr>\n",
       "      <th>3406</th>\n",
       "      <td>-1</td>\n",
       "      <td>None</td>\n",
       "      <td>T0L1Y0</td>\n",
       "      <td>None</td>\n",
       "      <td>None</td>\n",
       "      <td>None</td>\n",
       "      <td>None</td>\n",
       "      <td>None</td>\n",
       "      <td>None</td>\n",
       "      <td>None</td>\n",
       "      <td>None</td>\n",
       "      <td>51.424967</td>\n",
       "      <td>-116.177535</td>\n",
       "    </tr>\n",
       "    <tr>\n",
       "      <th>3407</th>\n",
       "      <td>-1</td>\n",
       "      <td>None</td>\n",
       "      <td>V3N 5E5</td>\n",
       "      <td>None</td>\n",
       "      <td>None</td>\n",
       "      <td>None</td>\n",
       "      <td>None</td>\n",
       "      <td>None</td>\n",
       "      <td>None</td>\n",
       "      <td>None</td>\n",
       "      <td>None</td>\n",
       "      <td>49.227500</td>\n",
       "      <td>-122.930100</td>\n",
       "    </tr>\n",
       "    <tr>\n",
       "      <th>3408</th>\n",
       "      <td>-1</td>\n",
       "      <td>None</td>\n",
       "      <td>V7M 2W7</td>\n",
       "      <td>None</td>\n",
       "      <td>None</td>\n",
       "      <td>None</td>\n",
       "      <td>None</td>\n",
       "      <td>None</td>\n",
       "      <td>None</td>\n",
       "      <td>None</td>\n",
       "      <td>None</td>\n",
       "      <td>49.320713</td>\n",
       "      <td>-123.073783</td>\n",
       "    </tr>\n",
       "    <tr>\n",
       "      <th>3409</th>\n",
       "      <td>-1</td>\n",
       "      <td>None</td>\n",
       "      <td>K2A 0E2</td>\n",
       "      <td>None</td>\n",
       "      <td>None</td>\n",
       "      <td>None</td>\n",
       "      <td>None</td>\n",
       "      <td>None</td>\n",
       "      <td>None</td>\n",
       "      <td>None</td>\n",
       "      <td>None</td>\n",
       "      <td>45.380500</td>\n",
       "      <td>-75.763600</td>\n",
       "    </tr>\n",
       "    <tr>\n",
       "      <th>3410</th>\n",
       "      <td>-1</td>\n",
       "      <td>None</td>\n",
       "      <td>L1J 1G5</td>\n",
       "      <td>None</td>\n",
       "      <td>None</td>\n",
       "      <td>None</td>\n",
       "      <td>None</td>\n",
       "      <td>None</td>\n",
       "      <td>None</td>\n",
       "      <td>None</td>\n",
       "      <td>None</td>\n",
       "      <td>43.890650</td>\n",
       "      <td>-78.892768</td>\n",
       "    </tr>\n",
       "  </tbody>\n",
       "</table>\n",
       "</div>"
      ],
      "text/plain": [
       "      Sort [1] State     FIPS County [2] Population(2010) Land Areakm²  \\\n",
       "3406        -1  None   T0L1Y0       None             None         None   \n",
       "3407        -1  None  V3N 5E5       None             None         None   \n",
       "3408        -1  None  V7M 2W7       None             None         None   \n",
       "3409        -1  None  K2A 0E2       None             None         None   \n",
       "3410        -1  None  L1J 1G5       None             None         None   \n",
       "\n",
       "     Land Areami² Water Areakm² Water Areami² Total Areakm² Total Areami²  \\\n",
       "3406         None          None          None          None          None   \n",
       "3407         None          None          None          None          None   \n",
       "3408         None          None          None          None          None   \n",
       "3409         None          None          None          None          None   \n",
       "3410         None          None          None          None          None   \n",
       "\n",
       "       Latitude   Longitude  \n",
       "3406  51.424967 -116.177535  \n",
       "3407  49.227500 -122.930100  \n",
       "3408  49.320713 -123.073783  \n",
       "3409  45.380500  -75.763600  \n",
       "3410  43.890650  -78.892768  "
      ]
     },
     "execution_count": 12,
     "metadata": {},
     "output_type": "execute_result"
    }
   ],
   "source": [
    "# append canada\n",
    "for code, lat, long in merged_data:\n",
    "    cnt_loc = cnt_loc.append(pd.Series([-1, None, code, None, None, None, None, None, None, None, None, lat, long], index = cnt_loc.columns), ignore_index=True)\n",
    "print(len(cnt_loc.index))\n",
    "cnt_loc.tail()"
   ]
  },
  {
   "cell_type": "code",
   "execution_count": 13,
   "metadata": {},
   "outputs": [],
   "source": [
    "# write csv\n",
    "cnt_loc.to_csv(counties_app_loc)"
   ]
  }
 ],
 "metadata": {
  "kernelspec": {
   "display_name": "Python 3",
   "language": "python",
   "name": "python3"
  },
  "language_info": {
   "codemirror_mode": {
    "name": "ipython",
    "version": 3
   },
   "file_extension": ".py",
   "mimetype": "text/x-python",
   "name": "python",
   "nbconvert_exporter": "python",
   "pygments_lexer": "ipython3",
   "version": "3.6.9"
  }
 },
 "nbformat": 4,
 "nbformat_minor": 4
}
